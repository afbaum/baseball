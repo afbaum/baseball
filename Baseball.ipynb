{
 "cells": [
  {
   "cell_type": "markdown",
   "metadata": {},
   "source": [
    "# St. Louis Cardinals Vs. Chicago Cubs\n",
    "Historically there has been a great baseball rivaly between the Cardinals and the Cubs.  Python and Sqlite3 will be used to evaluate the history of the ball teams to determine which team is the best.  "
   ]
  },
  {
   "cell_type": "code",
   "execution_count": 8,
   "metadata": {},
   "outputs": [],
   "source": [
    "import sqlite3\n",
    "import pandas as pd\n",
    "import numpy as np\n",
    "import matplotlib.pyplot as plt"
   ]
  },
  {
   "cell_type": "markdown",
   "metadata": {},
   "source": [
    "In the next cell I create a baseball database and read in the csv file that has the annual team data from 1871-2018."
   ]
  },
  {
   "cell_type": "code",
   "execution_count": 3,
   "metadata": {},
   "outputs": [],
   "source": [
    "con = sqlite3.connect('mlbbaseball.db')\n",
    "mlb_df = pd.read_csv('../../../Desktop/Teams.csv', index_col=None, na_values=['NA'])"
   ]
  },
  {
   "cell_type": "markdown",
   "metadata": {},
   "source": [
    "Next I add the team_table to my baseball database."
   ]
  },
  {
   "cell_type": "code",
   "execution_count": 4,
   "metadata": {},
   "outputs": [],
   "source": [
    "mlb_df.to_sql(\"team_table\", con, if_exists = \"replace\")"
   ]
  },
  {
   "cell_type": "markdown",
   "metadata": {},
   "source": [
    "When it comes to baseball the best team is always determined by who wins the **World Series**.  Since 1903 the top team from the American League and the National League have fought to be World Champions over a series of seven (used to be nine) games.  The most obvious way to determine which team is best is to figure out how many times each team has been the top in their league since 1903.       "
   ]
  },
  {
   "cell_type": "code",
   "execution_count": 5,
   "metadata": {},
   "outputs": [],
   "source": [
    "ws_df = pd.read_csv('../../../Desktop/SeriesPost.csv', index_col=None, na_values=['NA'])\n",
    "ws_df.to_sql(\"WorldSeries_table\", con, if_exists = \"replace\")"
   ]
  },
  {
   "cell_type": "code",
   "execution_count": 6,
   "metadata": {},
   "outputs": [
    {
     "data": {
      "text/html": [
       "<div>\n",
       "<style scoped>\n",
       "    .dataframe tbody tr th:only-of-type {\n",
       "        vertical-align: middle;\n",
       "    }\n",
       "\n",
       "    .dataframe tbody tr th {\n",
       "        vertical-align: top;\n",
       "    }\n",
       "\n",
       "    .dataframe thead th {\n",
       "        text-align: right;\n",
       "    }\n",
       "</style>\n",
       "<table border=\"1\" class=\"dataframe\">\n",
       "  <thead>\n",
       "    <tr style=\"text-align: right;\">\n",
       "      <th></th>\n",
       "      <th>WS_Wins</th>\n",
       "      <th>team</th>\n",
       "    </tr>\n",
       "  </thead>\n",
       "  <tbody>\n",
       "    <tr>\n",
       "      <th>0</th>\n",
       "      <td>12</td>\n",
       "      <td>SLN</td>\n",
       "    </tr>\n",
       "    <tr>\n",
       "      <th>0</th>\n",
       "      <td>4</td>\n",
       "      <td>CHN</td>\n",
       "    </tr>\n",
       "  </tbody>\n",
       "</table>\n",
       "</div>"
      ],
      "text/plain": [
       "   WS_Wins team\n",
       "0       12  SLN\n",
       "0        4  CHN"
      ]
     },
     "execution_count": 6,
     "metadata": {},
     "output_type": "execute_result"
    }
   ],
   "source": [
    "sln_ws_df = pd.read_sql_query(\"SELECT count(yearID) AS WS_Wins, teamIDwinner AS team FROM WorldSeries_table WHERE round='WS' AND (teamIDwinner = 'SLN' OR teamIDwinner = 'SL4') \", con)\n",
    "chn_ws_df = pd.read_sql_query(\"SELECT count(yearID) AS WS_Wins, teamIDwinner AS team FROM WorldSeries_table WHERE round='WS' AND teamIDwinner = 'CHN' \", con)\n",
    "all_ws_df = pd.concat([sln_ws_df, chn_ws_df])\n",
    "all_ws_df"
   ]
  },
  {
   "cell_type": "code",
   "execution_count": 23,
   "metadata": {},
   "outputs": [
    {
     "data": {
      "image/png": "[encoded data removed]",
      "text/plain": [
       "<Figure size 432x288 with 1 Axes>"
      ]
     },
     "metadata": {
      "needs_background": "light"
     },
     "output_type": "display_data"
    }
   ],
   "source": [
    "teams = ('Cardinals', 'Cubs')\n",
    "y_pos = np.arange(len(teams))\n",
    "ws_wins = [12, 4]\n",
    "\n",
    "plt.bar(y_pos, ws_wins, align='center', alpha=0.5, color='green')\n",
    "plt.xticks(y_pos, teams)\n",
    "plt.ylabel('World Series Wins')\n",
    "plt.title('Number of World Series Wins by Team')\n",
    "\n",
    "plt.show()\n"
   ]
  },
  {
   "cell_type": "markdown",
   "metadata": {},
   "source": [
    "This really is not a fair judge of the teams.  Any baseball fan knows about **The Curse of the Billy Goat**, a 71 year curse that prohibited the Cubs from winning a World Series.  A better way to judge the two teams to see who has the best record of wins over loss.  "
   ]
  },
  {
   "cell_type": "code",
   "execution_count": 16,
   "metadata": {},
   "outputs": [
    {
     "data": {
      "text/html": [
       "<div>\n",
       "<style scoped>\n",
       "    .dataframe tbody tr th:only-of-type {\n",
       "        vertical-align: middle;\n",
       "    }\n",
       "\n",
       "    .dataframe tbody tr th {\n",
       "        vertical-align: top;\n",
       "    }\n",
       "\n",
       "    .dataframe thead th {\n",
       "        text-align: right;\n",
       "    }\n",
       "</style>\n",
       "<table border=\"1\" class=\"dataframe\">\n",
       "  <thead>\n",
       "    <tr style=\"text-align: right;\">\n",
       "      <th></th>\n",
       "      <th>team</th>\n",
       "      <th>total_wins</th>\n",
       "      <th>total_loss</th>\n",
       "    </tr>\n",
       "  </thead>\n",
       "  <tbody>\n",
       "    <tr>\n",
       "      <th>0</th>\n",
       "      <td>SLN</td>\n",
       "      <td>10827</td>\n",
       "      <td>9992</td>\n",
       "    </tr>\n",
       "    <tr>\n",
       "      <th>0</th>\n",
       "      <td>CHN</td>\n",
       "      <td>10898</td>\n",
       "      <td>10326</td>\n",
       "    </tr>\n",
       "  </tbody>\n",
       "</table>\n",
       "</div>"
      ],
      "text/plain": [
       "  team  total_wins  total_loss\n",
       "0  SLN       10827        9992\n",
       "0  CHN       10898       10326"
      ]
     },
     "execution_count": 16,
     "metadata": {},
     "output_type": "execute_result"
    }
   ],
   "source": [
    "slnwinlos_df = pd.read_sql_query(\"SELECT teamID AS team, SUM(W) AS total_wins, SUM(L) AS total_loss FROM team_table WHERE (teamID = 'SLN' OR teamID = 'SL4') ORDER BY teamID\", con)\n",
    "chnwinlos_df = pd.read_sql_query(\"SELECT teamID AS team, SUM(W) AS total_wins, SUM(L) AS total_loss FROM team_table WHERE teamID = 'CHN' ORDER BY teamID\", con)\n",
    "all_winlos_df = pd.concat([slnwinlos_df, chnwinlos_df])\n",
    "\n",
    "all_winlos_df"
   ]
  },
  {
   "cell_type": "code",
   "execution_count": 37,
   "metadata": {},
   "outputs": [
    {
     "data": {
      "image/png": "[encoded data removed]",
      "text/plain": [
       "<Figure size 432x288 with 1 Axes>"
      ]
     },
     "metadata": {
      "needs_background": "light"
     },
     "output_type": "display_data"
    }
   ],
   "source": [
    "# final_df = all_ws_df.set_index('team').join(all_winlos_df.set_index('team'))\n",
    "# final_df\n",
    "\n",
    "n_groups = 2\n",
    "sln_winlos = (10827, 9992)\n",
    "chn_winlos = (10898, 10326)\n",
    "\n",
    "fig, ax = plt.subplots()\n",
    "index = np.arange(n_groups)\n",
    "bar_width = 0.35\n",
    "opacity = 0.8\n",
    "\n",
    "rects1 = plt.bar(index, sln_winlos, bar_width, alpha=opacity, color='red', label='Cardinals')\n",
    "rects1 = plt.bar(index + bar_width, chn_winlos, bar_width, alpha=opacity, color='blue', label='Cubs')\n",
    "\n",
    "plt.ylabel('Number of Wins or Losses')\n",
    "plt.title('Number of Total Wins and Losses by Team')\n",
    "plt.xticks(index + .5 * bar_width, ('Wins', 'Losses'))\n",
    "plt.ylim(9500, 11500)\n",
    "plt.legend()\n",
    "\n",
    "plt.tight_layout()\n",
    "plt.show()"
   ]
  },
  {
   "cell_type": "markdown",
   "metadata": {},
   "source": [
    "The Cubs team started playing ball in 1876 and the Cardinals team was started in 1882.  Given this 6 year difference the team wins and losses before 1882 need to be excluded from this query.  The St Louis team that started playing ball in 1882 was originally called the Brown Stockings.  The team information from the Brown Stockings will be included in the query.  In 1900 the team was renamed the Cardinals.  Nothing in the team was changed other than their name.  This is why the Brown Stocking information will included in the query. "
   ]
  },
  {
   "cell_type": "code",
   "execution_count": 35,
   "metadata": {},
   "outputs": [
    {
     "data": {
      "text/html": [
       "<div>\n",
       "<style scoped>\n",
       "    .dataframe tbody tr th:only-of-type {\n",
       "        vertical-align: middle;\n",
       "    }\n",
       "\n",
       "    .dataframe tbody tr th {\n",
       "        vertical-align: top;\n",
       "    }\n",
       "\n",
       "    .dataframe thead th {\n",
       "        text-align: right;\n",
       "    }\n",
       "</style>\n",
       "<table border=\"1\" class=\"dataframe\">\n",
       "  <thead>\n",
       "    <tr style=\"text-align: right;\">\n",
       "      <th></th>\n",
       "      <th>team</th>\n",
       "      <th>total_wins</th>\n",
       "      <th>total_loss</th>\n",
       "    </tr>\n",
       "  </thead>\n",
       "  <tbody>\n",
       "    <tr>\n",
       "      <th>0</th>\n",
       "      <td>SLN</td>\n",
       "      <td>10827</td>\n",
       "      <td>9992</td>\n",
       "    </tr>\n",
       "    <tr>\n",
       "      <th>0</th>\n",
       "      <td>CHN</td>\n",
       "      <td>10621</td>\n",
       "      <td>10171</td>\n",
       "    </tr>\n",
       "  </tbody>\n",
       "</table>\n",
       "</div>"
      ],
      "text/plain": [
       "  team  total_wins  total_loss\n",
       "0  SLN       10827        9992\n",
       "0  CHN       10621       10171"
      ]
     },
     "execution_count": 35,
     "metadata": {},
     "output_type": "execute_result"
    }
   ],
   "source": [
    "slnwinlos_df = pd.read_sql_query(\"SELECT teamID AS team, SUM(W) AS total_wins, SUM(L) AS total_loss FROM team_table WHERE yearID > 1881 AND (teamID = 'SLN' OR teamID = 'SL4') ORDER BY teamID\", con)\n",
    "chnwinlos_df = pd.read_sql_query(\"SELECT teamID AS team, SUM(W) AS total_wins, SUM(L) AS total_loss FROM team_table WHERE yearID > 1881 AND teamID = 'CHN' ORDER BY teamID\", con)\n",
    "all_winlos_df = pd.concat([slnwinlos_df, chnwinlos_df])\n",
    "\n",
    "all_winlos_df"
   ]
  },
  {
   "cell_type": "code",
   "execution_count": 38,
   "metadata": {},
   "outputs": [
    {
     "data": {
      "image/png": "[encoded data removed]",
      "text/plain": [
       "<Figure size 432x288 with 1 Axes>"
      ]
     },
     "metadata": {
      "needs_background": "light"
     },
     "output_type": "display_data"
    }
   ],
   "source": [
    "n_groups = 2\n",
    "sln_winlos = (10827, 9992)\n",
    "chn_winlos = (10621, 10171)\n",
    "\n",
    "fig, ax = plt.subplots()\n",
    "index = np.arange(n_groups)\n",
    "bar_width = 0.35\n",
    "opacity = 0.8\n",
    "\n",
    "rects1 = plt.bar(index, sln_winlos, bar_width, alpha=opacity, color='red', label='Cardinals')\n",
    "rects1 = plt.bar(index + bar_width, chn_winlos, bar_width, alpha=opacity, color='blue', label='Cubs')\n",
    "\n",
    "plt.ylabel('Number of Wins or Losses')\n",
    "plt.title('Number of Total Wins and Losses by Team')\n",
    "plt.xticks(index + .5 * bar_width, ('Wins', 'Losses'))\n",
    "plt.ylim(9500, 11500)\n",
    "plt.legend()\n",
    "\n",
    "plt.tight_layout()\n",
    "plt.show()"
   ]
  },
  {
   "cell_type": "markdown",
   "metadata": {},
   "source": [
    "After modifying the data collection to begin the same year both teams started playing (1882) the results change.  \n",
    "\n",
    "In the graph above The Cardinals appear to be the superior team in that they have more winns and less losses than the Cubs.  "
   ]
  },
  {
   "cell_type": "code",
   "execution_count": 87,
   "metadata": {},
   "outputs": [
    {
     "data": {
      "image/png": "[encoded data removed]",
      "text/plain": [
       "<Figure size 432x288 with 2 Axes>"
      ]
     },
     "metadata": {},
     "output_type": "display_data"
    },
    {
     "data": {
      "text/plain": [
       "<Figure size 720x720 with 0 Axes>"
      ]
     },
     "metadata": {},
     "output_type": "display_data"
    }
   ],
   "source": [
    "sln_total_games = slnwinlos_df['total_wins'] + slnwinlos_df['total_loss']\n",
    "sln_percent_win = slnwinlos_df['total_wins'] / sln_total_games\n",
    "sln_percent_loss = slnwinlos_df['total_loss']/ sln_total_games\n",
    "percent_winloss = [sln_percent_win, sln_percent_loss, chn_percent_win, chn_percent_loss]\n",
    "percent_winloss_df = pd.DataFrame(columns = percent_winloss)\n",
    "\n",
    "chn_total_games = chnwinlos_df['total_wins'] + chnwinlos_df['total_loss']\n",
    "chn_percent_win = chnwinlos_df['total_wins'] / chn_total_games\n",
    "chn_percent_loss = chnwinlos_df['total_loss']/ chn_total_games\n",
    "\n",
    "labels = 'Wins', 'Losses'\n",
    "sln_sizes = [sln_percent_win, sln_percent_loss]\n",
    "chn_sizes = [chn_percent_win, chn_percent_loss]\n",
    "explode = (0.1, 0)\n",
    "\n",
    "fig1, (ax1, ax2) = plt.subplots(1,2)\n",
    "\n",
    "plt.figure(figsize = (10,10))\n",
    "\n",
    "ax1.pie(sln_sizes, explode=explode, labels = labels, autopct='%1.1f%%',\n",
    "       shadow=True, startangle=90)\n",
    "ax1.axis('equal') \n",
    "ax1.set_title('Cardinals Percentage of Wins and Losses since 1882')\n",
    "\n",
    "ax2.pie(chn_sizes, explode=explode, labels = labels, autopct='%1.1f%%',\n",
    "       shadow=True, startangle=90)\n",
    "ax2.axis('equal') \n",
    "ax2.set_title('Cubs Percentage of Wins and Losses since 1882')\n",
    "\n",
    "plt.subplots_adjust(wspace=0.5)\n",
    "\n",
    "plt.show()"
   ]
  },
  {
   "cell_type": "code",
   "execution_count": 47,
   "metadata": {},
   "outputs": [
    {
     "data": {
      "text/html": [
       "<div>\n",
       "<style scoped>\n",
       "    .dataframe tbody tr th:only-of-type {\n",
       "        vertical-align: middle;\n",
       "    }\n",
       "\n",
       "    .dataframe tbody tr th {\n",
       "        vertical-align: top;\n",
       "    }\n",
       "\n",
       "    .dataframe thead th {\n",
       "        text-align: right;\n",
       "    }\n",
       "</style>\n",
       "<table border=\"1\" class=\"dataframe\">\n",
       "  <thead>\n",
       "    <tr style=\"text-align: right;\">\n",
       "      <th></th>\n",
       "      <th>WS_Wins</th>\n",
       "      <th>yearID</th>\n",
       "      <th>total_wins</th>\n",
       "      <th>total_loss</th>\n",
       "      <th>avg(ERA)</th>\n",
       "      <th>total_walks</th>\n",
       "      <th>total_strikeout</th>\n",
       "    </tr>\n",
       "    <tr>\n",
       "      <th>team</th>\n",
       "      <th></th>\n",
       "      <th></th>\n",
       "      <th></th>\n",
       "      <th></th>\n",
       "      <th></th>\n",
       "      <th></th>\n",
       "      <th></th>\n",
       "    </tr>\n",
       "  </thead>\n",
       "  <tbody>\n",
       "    <tr>\n",
       "      <th>SLN</th>\n",
       "      <td>12</td>\n",
       "      <td>2018</td>\n",
       "      <td>10827</td>\n",
       "      <td>9992</td>\n",
       "      <td>3.672555</td>\n",
       "      <td>63614</td>\n",
       "      <td>95800</td>\n",
       "    </tr>\n",
       "    <tr>\n",
       "      <th>CHN</th>\n",
       "      <td>4</td>\n",
       "      <td>2018</td>\n",
       "      <td>10621</td>\n",
       "      <td>10171</td>\n",
       "      <td>3.690730</td>\n",
       "      <td>65398</td>\n",
       "      <td>101803</td>\n",
       "    </tr>\n",
       "  </tbody>\n",
       "</table>\n",
       "</div>"
      ],
      "text/plain": [
       "      WS_Wins  yearID  total_wins  total_loss  avg(ERA)  total_walks  \\\n",
       "team                                                                   \n",
       "SLN        12    2018       10827        9992  3.672555        63614   \n",
       "CHN         4    2018       10621       10171  3.690730        65398   \n",
       "\n",
       "      total_strikeout  \n",
       "team                   \n",
       "SLN             95800  \n",
       "CHN            101803  "
      ]
     },
     "execution_count": 47,
     "metadata": {},
     "output_type": "execute_result"
    }
   ],
   "source": [
    "sln_pitches_df = pd.read_sql_query(\"SELECT teamID AS team, avg(ERA), SUM(BBA) AS total_walks, SUM(SOA) AS total_strikeout FROM team_table WHERE yearID > 1881 AND (teamID = 'SLN' OR teamID = 'SL4')\", con)\n",
    "chn_pitches_df = pd.read_sql_query(\"SELECT teamID AS team, avg(ERA), SUM(BBA) AS total_walks, SUM(SOA) AS total_strikeout FROM team_table WHERE yearID > 1881 AND teamID = 'CHN' \", con)\n",
    "all_pitches_df = pd.concat([sln_pitches_df, chn_pitches_df])\n",
    "final_df = final_df.join(all_pitches_df.set_index('team'))\n",
    "final_df"
   ]
  },
  {
   "cell_type": "markdown",
   "metadata": {},
   "source": [
    "Pitchers only stop the other team from scoring runs.  If your batters aren't getting hits your ball club \n",
    "will be no good regardless of the strength of your pitchers."
   ]
  },
  {
   "cell_type": "code",
   "execution_count": 51,
   "metadata": {},
   "outputs": [
    {
     "data": {
      "text/html": [
       "<div>\n",
       "<style scoped>\n",
       "    .dataframe tbody tr th:only-of-type {\n",
       "        vertical-align: middle;\n",
       "    }\n",
       "\n",
       "    .dataframe tbody tr th {\n",
       "        vertical-align: top;\n",
       "    }\n",
       "\n",
       "    .dataframe thead th {\n",
       "        text-align: right;\n",
       "    }\n",
       "</style>\n",
       "<table border=\"1\" class=\"dataframe\">\n",
       "  <thead>\n",
       "    <tr style=\"text-align: right;\">\n",
       "      <th></th>\n",
       "      <th>WS_Wins</th>\n",
       "      <th>yearID</th>\n",
       "      <th>total_wins</th>\n",
       "      <th>total_loss</th>\n",
       "      <th>avg(ERA)</th>\n",
       "      <th>total_walks</th>\n",
       "      <th>total_strikeout</th>\n",
       "      <th>at_bat</th>\n",
       "      <th>hits</th>\n",
       "      <th>home_runs</th>\n",
       "    </tr>\n",
       "    <tr>\n",
       "      <th>team</th>\n",
       "      <th></th>\n",
       "      <th></th>\n",
       "      <th></th>\n",
       "      <th></th>\n",
       "      <th></th>\n",
       "      <th></th>\n",
       "      <th></th>\n",
       "      <th></th>\n",
       "      <th></th>\n",
       "      <th></th>\n",
       "    </tr>\n",
       "  </thead>\n",
       "  <tbody>\n",
       "    <tr>\n",
       "      <th>SLN</th>\n",
       "      <td>12</td>\n",
       "      <td>2018</td>\n",
       "      <td>10827</td>\n",
       "      <td>9992</td>\n",
       "      <td>3.672555</td>\n",
       "      <td>63614</td>\n",
       "      <td>95800</td>\n",
       "      <td>719570</td>\n",
       "      <td>191701</td>\n",
       "      <td>12089</td>\n",
       "    </tr>\n",
       "    <tr>\n",
       "      <th>CHN</th>\n",
       "      <td>4</td>\n",
       "      <td>2018</td>\n",
       "      <td>10621</td>\n",
       "      <td>10171</td>\n",
       "      <td>3.690730</td>\n",
       "      <td>65398</td>\n",
       "      <td>101803</td>\n",
       "      <td>715797</td>\n",
       "      <td>187556</td>\n",
       "      <td>14090</td>\n",
       "    </tr>\n",
       "  </tbody>\n",
       "</table>\n",
       "</div>"
      ],
      "text/plain": [
       "      WS_Wins  yearID  total_wins  total_loss  avg(ERA)  total_walks  \\\n",
       "team                                                                   \n",
       "SLN        12    2018       10827        9992  3.672555        63614   \n",
       "CHN         4    2018       10621       10171  3.690730        65398   \n",
       "\n",
       "      total_strikeout  at_bat    hits  home_runs  \n",
       "team                                              \n",
       "SLN             95800  719570  191701      12089  \n",
       "CHN            101803  715797  187556      14090  "
      ]
     },
     "execution_count": 51,
     "metadata": {},
     "output_type": "execute_result"
    }
   ],
   "source": [
    "sln_hits_df = pd.read_sql_query(\"SELECT teamID AS team, SUM(AB) AS at_bat, SUM(H) AS hits, SUM(HR) AS home_runs FROM team_table WHERE yearID > 1881 AND (teamID = 'SLN' OR teamID = 'SL4') ORDER BY yearID\", con)\n",
    "chn_hits_df = pd.read_sql_query(\"SELECT teamID AS team, SUM(AB) AS at_bat, SUM(H) AS hits, SUM(HR) AS home_runs FROM team_table WHERE yearID > 1881 AND teamID = 'CHN' ORDER BY yearID\", con)\n",
    "all_hits_df = pd.concat([sln_hits_df, chn_hits_df])\n",
    "final_df = final_df.join(all_hits_df.set_index('team'))\n",
    "final_df"
   ]
  },
  {
   "cell_type": "markdown",
   "metadata": {},
   "source": [
    "## Need to find a way to read columns 2B and 3B"
   ]
  },
  {
   "cell_type": "code",
   "execution_count": 73,
   "metadata": {},
   "outputs": [],
   "source": [
    "batting_df = pd.read_csv('../../../Desktop/Batting.csv', index_col=None, na_values=['NA'])\n",
    "batting_df.to_sql(\"Batting_table\", con, if_exists = \"replace\")\n",
    "\n",
    "people_df = pd.read_csv('../../../Desktop/People.csv', index_col=None, na_values=['NA'])\n",
    "people_df.to_sql(\"people_table\", con, if_exists = \"replace\")"
   ]
  },
  {
   "cell_type": "code",
   "execution_count": 93,
   "metadata": {},
   "outputs": [
    {
     "data": {
      "text/html": [
       "<div>\n",
       "<style scoped>\n",
       "    .dataframe tbody tr th:only-of-type {\n",
       "        vertical-align: middle;\n",
       "    }\n",
       "\n",
       "    .dataframe tbody tr th {\n",
       "        vertical-align: top;\n",
       "    }\n",
       "\n",
       "    .dataframe thead th {\n",
       "        text-align: right;\n",
       "    }\n",
       "</style>\n",
       "<table border=\"1\" class=\"dataframe\">\n",
       "  <thead>\n",
       "    <tr style=\"text-align: right;\">\n",
       "      <th></th>\n",
       "      <th>nameLast</th>\n",
       "      <th>nameFirst</th>\n",
       "      <th>HR</th>\n",
       "      <th>teamID</th>\n",
       "    </tr>\n",
       "  </thead>\n",
       "  <tbody>\n",
       "    <tr>\n",
       "      <th>0</th>\n",
       "      <td>Hornsby</td>\n",
       "      <td>Rogers</td>\n",
       "      <td>42</td>\n",
       "      <td>SLN</td>\n",
       "    </tr>\n",
       "    <tr>\n",
       "      <th>1</th>\n",
       "      <td>Mize</td>\n",
       "      <td>Johnny</td>\n",
       "      <td>43</td>\n",
       "      <td>SLN</td>\n",
       "    </tr>\n",
       "    <tr>\n",
       "      <th>2</th>\n",
       "      <td>McGwire</td>\n",
       "      <td>Mark</td>\n",
       "      <td>70</td>\n",
       "      <td>SLN</td>\n",
       "    </tr>\n",
       "    <tr>\n",
       "      <th>3</th>\n",
       "      <td>McGwire</td>\n",
       "      <td>Mark</td>\n",
       "      <td>65</td>\n",
       "      <td>SLN</td>\n",
       "    </tr>\n",
       "    <tr>\n",
       "      <th>4</th>\n",
       "      <td>Edmonds</td>\n",
       "      <td>Jim</td>\n",
       "      <td>42</td>\n",
       "      <td>SLN</td>\n",
       "    </tr>\n",
       "    <tr>\n",
       "      <th>5</th>\n",
       "      <td>Pujols</td>\n",
       "      <td>Albert</td>\n",
       "      <td>43</td>\n",
       "      <td>SLN</td>\n",
       "    </tr>\n",
       "    <tr>\n",
       "      <th>6</th>\n",
       "      <td>Edmonds</td>\n",
       "      <td>Jim</td>\n",
       "      <td>42</td>\n",
       "      <td>SLN</td>\n",
       "    </tr>\n",
       "    <tr>\n",
       "      <th>7</th>\n",
       "      <td>Pujols</td>\n",
       "      <td>Albert</td>\n",
       "      <td>46</td>\n",
       "      <td>SLN</td>\n",
       "    </tr>\n",
       "    <tr>\n",
       "      <th>8</th>\n",
       "      <td>Pujols</td>\n",
       "      <td>Albert</td>\n",
       "      <td>41</td>\n",
       "      <td>SLN</td>\n",
       "    </tr>\n",
       "    <tr>\n",
       "      <th>9</th>\n",
       "      <td>Pujols</td>\n",
       "      <td>Albert</td>\n",
       "      <td>49</td>\n",
       "      <td>SLN</td>\n",
       "    </tr>\n",
       "    <tr>\n",
       "      <th>10</th>\n",
       "      <td>Pujols</td>\n",
       "      <td>Albert</td>\n",
       "      <td>47</td>\n",
       "      <td>SLN</td>\n",
       "    </tr>\n",
       "    <tr>\n",
       "      <th>11</th>\n",
       "      <td>Pujols</td>\n",
       "      <td>Albert</td>\n",
       "      <td>42</td>\n",
       "      <td>SLN</td>\n",
       "    </tr>\n",
       "    <tr>\n",
       "      <th>12</th>\n",
       "      <td>Wilson</td>\n",
       "      <td>Hack</td>\n",
       "      <td>56</td>\n",
       "      <td>CHN</td>\n",
       "    </tr>\n",
       "    <tr>\n",
       "      <th>13</th>\n",
       "      <td>Sauer</td>\n",
       "      <td>Hank</td>\n",
       "      <td>41</td>\n",
       "      <td>CHN</td>\n",
       "    </tr>\n",
       "    <tr>\n",
       "      <th>14</th>\n",
       "      <td>Banks</td>\n",
       "      <td>Ernie</td>\n",
       "      <td>44</td>\n",
       "      <td>CHN</td>\n",
       "    </tr>\n",
       "    <tr>\n",
       "      <th>15</th>\n",
       "      <td>Banks</td>\n",
       "      <td>Ernie</td>\n",
       "      <td>43</td>\n",
       "      <td>CHN</td>\n",
       "    </tr>\n",
       "    <tr>\n",
       "      <th>16</th>\n",
       "      <td>Banks</td>\n",
       "      <td>Ernie</td>\n",
       "      <td>47</td>\n",
       "      <td>CHN</td>\n",
       "    </tr>\n",
       "    <tr>\n",
       "      <th>17</th>\n",
       "      <td>Banks</td>\n",
       "      <td>Ernie</td>\n",
       "      <td>45</td>\n",
       "      <td>CHN</td>\n",
       "    </tr>\n",
       "    <tr>\n",
       "      <th>18</th>\n",
       "      <td>Banks</td>\n",
       "      <td>Ernie</td>\n",
       "      <td>41</td>\n",
       "      <td>CHN</td>\n",
       "    </tr>\n",
       "    <tr>\n",
       "      <th>19</th>\n",
       "      <td>Williams</td>\n",
       "      <td>Billy</td>\n",
       "      <td>42</td>\n",
       "      <td>CHN</td>\n",
       "    </tr>\n",
       "    <tr>\n",
       "      <th>20</th>\n",
       "      <td>Kingman</td>\n",
       "      <td>Dave</td>\n",
       "      <td>48</td>\n",
       "      <td>CHN</td>\n",
       "    </tr>\n",
       "    <tr>\n",
       "      <th>21</th>\n",
       "      <td>Dawson</td>\n",
       "      <td>Andre</td>\n",
       "      <td>49</td>\n",
       "      <td>CHN</td>\n",
       "    </tr>\n",
       "    <tr>\n",
       "      <th>22</th>\n",
       "      <td>Sosa</td>\n",
       "      <td>Sammy</td>\n",
       "      <td>66</td>\n",
       "      <td>CHN</td>\n",
       "    </tr>\n",
       "    <tr>\n",
       "      <th>23</th>\n",
       "      <td>Sosa</td>\n",
       "      <td>Sammy</td>\n",
       "      <td>63</td>\n",
       "      <td>CHN</td>\n",
       "    </tr>\n",
       "    <tr>\n",
       "      <th>24</th>\n",
       "      <td>Sosa</td>\n",
       "      <td>Sammy</td>\n",
       "      <td>50</td>\n",
       "      <td>CHN</td>\n",
       "    </tr>\n",
       "    <tr>\n",
       "      <th>25</th>\n",
       "      <td>Sosa</td>\n",
       "      <td>Sammy</td>\n",
       "      <td>64</td>\n",
       "      <td>CHN</td>\n",
       "    </tr>\n",
       "    <tr>\n",
       "      <th>26</th>\n",
       "      <td>Sosa</td>\n",
       "      <td>Sammy</td>\n",
       "      <td>49</td>\n",
       "      <td>CHN</td>\n",
       "    </tr>\n",
       "    <tr>\n",
       "      <th>27</th>\n",
       "      <td>Lee</td>\n",
       "      <td>Derrek</td>\n",
       "      <td>46</td>\n",
       "      <td>CHN</td>\n",
       "    </tr>\n",
       "  </tbody>\n",
       "</table>\n",
       "</div>"
      ],
      "text/plain": [
       "    nameLast nameFirst  HR teamID\n",
       "0    Hornsby    Rogers  42    SLN\n",
       "1       Mize    Johnny  43    SLN\n",
       "2    McGwire      Mark  70    SLN\n",
       "3    McGwire      Mark  65    SLN\n",
       "4    Edmonds       Jim  42    SLN\n",
       "5     Pujols    Albert  43    SLN\n",
       "6    Edmonds       Jim  42    SLN\n",
       "7     Pujols    Albert  46    SLN\n",
       "8     Pujols    Albert  41    SLN\n",
       "9     Pujols    Albert  49    SLN\n",
       "10    Pujols    Albert  47    SLN\n",
       "11    Pujols    Albert  42    SLN\n",
       "12    Wilson      Hack  56    CHN\n",
       "13     Sauer      Hank  41    CHN\n",
       "14     Banks     Ernie  44    CHN\n",
       "15     Banks     Ernie  43    CHN\n",
       "16     Banks     Ernie  47    CHN\n",
       "17     Banks     Ernie  45    CHN\n",
       "18     Banks     Ernie  41    CHN\n",
       "19  Williams     Billy  42    CHN\n",
       "20   Kingman      Dave  48    CHN\n",
       "21    Dawson     Andre  49    CHN\n",
       "22      Sosa     Sammy  66    CHN\n",
       "23      Sosa     Sammy  63    CHN\n",
       "24      Sosa     Sammy  50    CHN\n",
       "25      Sosa     Sammy  64    CHN\n",
       "26      Sosa     Sammy  49    CHN\n",
       "27       Lee    Derrek  46    CHN"
      ]
     },
     "execution_count": 93,
     "metadata": {},
     "output_type": "execute_result"
    }
   ],
   "source": [
    "hr_batting_df = pd.read_sql_query(\"SELECT teamID AS team, playerID, HR FROM batting_table WHERE yearID > 1882 AND (teamID = 'SLN' OR teamID = 'SL4' OR teamID = 'CHN') ORDER BY HR DESC\", con)\n",
    "hr_batting_df.head()\n",
    "\n",
    "batting_name_df = pd.read_sql_query(\"SELECT nameLast, nameFirst, HR, teamID FROM batting_table INNER JOIN people_table ON batting_table.playerID = people_table.playerID WHERE yearID > 1882 AND (teamID = 'SLN' OR teamID = 'SL4' OR teamID = 'CHN') AND HR > 40 ORDER BY teamID DESC\", con)\n",
    "batting_name_df"
   ]
  },
  {
   "cell_type": "code",
   "execution_count": null,
   "metadata": {},
   "outputs": [],
   "source": []
  }
 ],
 "metadata": {
  "kernelspec": {
   "display_name": "Python 3",
   "language": "python",
   "name": "python3"
  },
  "language_info": {
   "codemirror_mode": {
    "name": "ipython",
    "version": 3
   },
   "file_extension": ".py",
   "mimetype": "text/x-python",
   "name": "python",
   "nbconvert_exporter": "python",
   "pygments_lexer": "ipython3",
   "version": "3.7.0"
  }
 },
 "nbformat": 4,
 "nbformat_minor": 2
}
