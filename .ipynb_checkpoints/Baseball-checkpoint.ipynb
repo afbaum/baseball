{
 "cells": [
  {
   "cell_type": "markdown",
   "metadata": {},
   "source": [
    "# St. Louis Cardinals Vs. Chicago Cubs\n",
    "Historically there has been a great baseball rivaly between the Cardinals and the Cubs.  Python and Sqlite3 will be used to evaluate the history of the ball teams to determine which team is the best.  "
   ]
  },
  {
   "cell_type": "code",
   "execution_count": 96,
   "metadata": {},
   "outputs": [],
   "source": [
    "import sqlite3\n",
    "import pandas as pd\n",
    "import matplotlib.pyplot as plt"
   ]
  },
  {
   "cell_type": "markdown",
   "metadata": {},
   "source": [
    "In the next cell I create a baseball database and read in the csv file that has the annual team data from 1871-2018."
   ]
  },
  {
   "cell_type": "code",
   "execution_count": 104,
   "metadata": {},
   "outputs": [],
   "source": [
    "con = sqlite3.connect('mlbbaseball.db')\n",
    "mlb_df = pd.read_csv('../../../Desktop/Teams.csv', index_col=None, na_values=['NA'])"
   ]
  },
  {
   "cell_type": "markdown",
   "metadata": {},
   "source": [
    "Next I add the team_table to my baseball database."
   ]
  },
  {
   "cell_type": "code",
   "execution_count": 98,
   "metadata": {},
   "outputs": [],
   "source": [
    "mlb_df.to_sql(\"team_table\", baseball, if_exists = \"replace\")"
   ]
  },
  {
   "cell_type": "markdown",
   "metadata": {},
   "source": [
    "When it comes to baseball the best team is always determined by who wins the **World Series**.  Since 1903 the top team from the American League and the National League have fought to be World Champions over a series of seven (used to be nine) games.  The most obvious way to determine which team is best is to figure out how many times each team has been the top in their league since 1903.       "
   ]
  },
  {
   "cell_type": "code",
   "execution_count": 102,
   "metadata": {},
   "outputs": [],
   "source": [
    "ws_df = pd.read_csv('../../../Desktop/SeriesPost.csv', index_col=None, na_values=['NA'])\n",
    "ws_df.to_sql(\"WorldSeries_table\", baseball, if_exists = \"replace\")"
   ]
  },
  {
   "cell_type": "code",
   "execution_count": 139,
   "metadata": {},
   "outputs": [
    {
     "data": {
      "text/html": [
       "<div>\n",
       "<style scoped>\n",
       "    .dataframe tbody tr th:only-of-type {\n",
       "        vertical-align: middle;\n",
       "    }\n",
       "\n",
       "    .dataframe tbody tr th {\n",
       "        vertical-align: top;\n",
       "    }\n",
       "\n",
       "    .dataframe thead th {\n",
       "        text-align: right;\n",
       "    }\n",
       "</style>\n",
       "<table border=\"1\" class=\"dataframe\">\n",
       "  <thead>\n",
       "    <tr style=\"text-align: right;\">\n",
       "      <th></th>\n",
       "      <th>yearID</th>\n",
       "      <th>teamIDwinner</th>\n",
       "    </tr>\n",
       "  </thead>\n",
       "  <tbody>\n",
       "    <tr>\n",
       "      <th>0</th>\n",
       "      <td>1885</td>\n",
       "      <td>CHN</td>\n",
       "    </tr>\n",
       "    <tr>\n",
       "      <th>1</th>\n",
       "      <td>1907</td>\n",
       "      <td>CHN</td>\n",
       "    </tr>\n",
       "    <tr>\n",
       "      <th>2</th>\n",
       "      <td>1908</td>\n",
       "      <td>CHN</td>\n",
       "    </tr>\n",
       "    <tr>\n",
       "      <th>3</th>\n",
       "      <td>1926</td>\n",
       "      <td>SLN</td>\n",
       "    </tr>\n",
       "    <tr>\n",
       "      <th>4</th>\n",
       "      <td>1931</td>\n",
       "      <td>SLN</td>\n",
       "    </tr>\n",
       "    <tr>\n",
       "      <th>5</th>\n",
       "      <td>1934</td>\n",
       "      <td>SLN</td>\n",
       "    </tr>\n",
       "    <tr>\n",
       "      <th>6</th>\n",
       "      <td>1942</td>\n",
       "      <td>SLN</td>\n",
       "    </tr>\n",
       "    <tr>\n",
       "      <th>7</th>\n",
       "      <td>1944</td>\n",
       "      <td>SLN</td>\n",
       "    </tr>\n",
       "    <tr>\n",
       "      <th>8</th>\n",
       "      <td>1946</td>\n",
       "      <td>SLN</td>\n",
       "    </tr>\n",
       "    <tr>\n",
       "      <th>9</th>\n",
       "      <td>1964</td>\n",
       "      <td>SLN</td>\n",
       "    </tr>\n",
       "    <tr>\n",
       "      <th>10</th>\n",
       "      <td>1967</td>\n",
       "      <td>SLN</td>\n",
       "    </tr>\n",
       "    <tr>\n",
       "      <th>11</th>\n",
       "      <td>1982</td>\n",
       "      <td>SLN</td>\n",
       "    </tr>\n",
       "    <tr>\n",
       "      <th>12</th>\n",
       "      <td>2006</td>\n",
       "      <td>SLN</td>\n",
       "    </tr>\n",
       "    <tr>\n",
       "      <th>13</th>\n",
       "      <td>2011</td>\n",
       "      <td>SLN</td>\n",
       "    </tr>\n",
       "    <tr>\n",
       "      <th>14</th>\n",
       "      <td>2016</td>\n",
       "      <td>CHN</td>\n",
       "    </tr>\n",
       "  </tbody>\n",
       "</table>\n",
       "</div>"
      ],
      "text/plain": [
       "    yearID teamIDwinner\n",
       "0     1885          CHN\n",
       "1     1907          CHN\n",
       "2     1908          CHN\n",
       "3     1926          SLN\n",
       "4     1931          SLN\n",
       "5     1934          SLN\n",
       "6     1942          SLN\n",
       "7     1944          SLN\n",
       "8     1946          SLN\n",
       "9     1964          SLN\n",
       "10    1967          SLN\n",
       "11    1982          SLN\n",
       "12    2006          SLN\n",
       "13    2011          SLN\n",
       "14    2016          CHN"
      ]
     },
     "execution_count": 139,
     "metadata": {},
     "output_type": "execute_result"
    }
   ],
   "source": [
    "ws_df = pd.read_sql_query(\"SELECT yearID, teamIDwinner FROM WorldSeries_table WHERE round = 'WS' AND (teamIDwinner = 'SLN' OR teamIDwinner = 'CHN')\", con)\n",
    "ws_df"
   ]
  },
  {
   "cell_type": "markdown",
   "metadata": {},
   "source": [
    "This really is not a fair judge of the teams.  Any baseball fan knows about **The Curse of the Billy Goat**, a 71 year curse that prohibited the Cubs from winning a World Series.  A better way to judge the two teams to see who has the best record of wins over loss.  "
   ]
  },
  {
   "cell_type": "code",
   "execution_count": 143,
   "metadata": {},
   "outputs": [],
   "source": [
    "slnwinlos_df = pd.read_sql_query(\"SELECT yearID, teamID, SUM(W), SUM(L) FROM team_table WHERE yearID > 1881 AND (teamID = 'SLN' OR teamID = 'SL4') ORDER BY teamID\", con)\n",
    "chnwinlos_df = pd.read_sql_query(\"SELECT yearID, teamID, SUM(W), SUM(L) FROM team_table WHERE yearID > 1881 AND teamID = 'CHN' ORDER BY teamID\", con)\n",
    "# slnwinlos_df\n",
    "# chnwinlos_df"
   ]
  },
  {
   "cell_type": "markdown",
   "metadata": {},
   "source": [
    "The Cubs team started playing ball in 1876 and the Cardinals team was started in 1882.  Given this 6 year difference the team wins and losses before 1882 were excluded from this query.  The St Louis team that started playing ball in 1882 was originally called the Brown Stockings.  The team information from the Brown Stockings were included in the query.  In 1900 the team was renamed the Cardinals.  Nothing in the team was changed other than their name.  This is why the Brown Stocking information was included in the query.  A team is not made on wins and losses alone.  Without a great pitching staff a baseball team is nothing."
   ]
  },
  {
   "cell_type": "code",
   "execution_count": 149,
   "metadata": {},
   "outputs": [
    {
     "data": {
      "text/html": [
       "<div>\n",
       "<style scoped>\n",
       "    .dataframe tbody tr th:only-of-type {\n",
       "        vertical-align: middle;\n",
       "    }\n",
       "\n",
       "    .dataframe tbody tr th {\n",
       "        vertical-align: top;\n",
       "    }\n",
       "\n",
       "    .dataframe thead th {\n",
       "        text-align: right;\n",
       "    }\n",
       "</style>\n",
       "<table border=\"1\" class=\"dataframe\">\n",
       "  <thead>\n",
       "    <tr style=\"text-align: right;\">\n",
       "      <th></th>\n",
       "      <th>teamID</th>\n",
       "      <th>avg(ERA)</th>\n",
       "      <th>SUM(BBA)</th>\n",
       "      <th>SUM(SOA)</th>\n",
       "    </tr>\n",
       "  </thead>\n",
       "  <tbody>\n",
       "    <tr>\n",
       "      <th>0</th>\n",
       "      <td>SLN</td>\n",
       "      <td>3.672555</td>\n",
       "      <td>63614</td>\n",
       "      <td>95800</td>\n",
       "    </tr>\n",
       "  </tbody>\n",
       "</table>\n",
       "</div>"
      ],
      "text/plain": [
       "  teamID  avg(ERA)  SUM(BBA)  SUM(SOA)\n",
       "0    SLN  3.672555     63614     95800"
      ]
     },
     "execution_count": 149,
     "metadata": {},
     "output_type": "execute_result"
    }
   ],
   "source": [
    "pitches_df = pd.read_sql_query(\"SELECT teamID, ERA, BBA, SOA FROM team_table WHERE yearID > 1881 AND (teamID = 'SLN' OR teamID = 'SL4' OR teamID = 'CHN') ORDER BY yearID\", con)\n",
    "sln_pitches_df = pd.read_sql_query(\"SELECT teamID, avg(ERA), SUM(BBA), SUM(SOA) FROM team_table WHERE yearID > 1881 AND (teamID = 'SLN' OR teamID = 'SL4')\", con)\n",
    "sln_pitches_df"
   ]
  },
  {
   "cell_type": "code",
   "execution_count": 150,
   "metadata": {},
   "outputs": [
    {
     "data": {
      "text/html": [
       "<div>\n",
       "<style scoped>\n",
       "    .dataframe tbody tr th:only-of-type {\n",
       "        vertical-align: middle;\n",
       "    }\n",
       "\n",
       "    .dataframe tbody tr th {\n",
       "        vertical-align: top;\n",
       "    }\n",
       "\n",
       "    .dataframe thead th {\n",
       "        text-align: right;\n",
       "    }\n",
       "</style>\n",
       "<table border=\"1\" class=\"dataframe\">\n",
       "  <thead>\n",
       "    <tr style=\"text-align: right;\">\n",
       "      <th></th>\n",
       "      <th>teamID</th>\n",
       "      <th>avg(ERA)</th>\n",
       "      <th>SUM(BBA)</th>\n",
       "      <th>SUM(SOA)</th>\n",
       "    </tr>\n",
       "  </thead>\n",
       "  <tbody>\n",
       "    <tr>\n",
       "      <th>0</th>\n",
       "      <td>CHN</td>\n",
       "      <td>3.69073</td>\n",
       "      <td>65398</td>\n",
       "      <td>101803</td>\n",
       "    </tr>\n",
       "  </tbody>\n",
       "</table>\n",
       "</div>"
      ],
      "text/plain": [
       "  teamID  avg(ERA)  SUM(BBA)  SUM(SOA)\n",
       "0    CHN   3.69073     65398    101803"
      ]
     },
     "execution_count": 150,
     "metadata": {},
     "output_type": "execute_result"
    }
   ],
   "source": [
    "chn_pitches_df = pd.read_sql_query(\"SELECT teamID, avg(ERA), SUM(BBA), SUM(SOA) FROM team_table WHERE yearID > 1881 AND teamID = 'CHN' \", con)\n",
    "chn_pitches_df"
   ]
  },
  {
   "cell_type": "markdown",
   "metadata": {},
   "source": [
    "Pitchers only stop the other team from scoring runs.  If your batters aren't getting hist your ball club \n",
    "will be no good regardless of the strength of your pitchers."
   ]
  },
  {
   "cell_type": "code",
   "execution_count": 158,
   "metadata": {},
   "outputs": [
    {
     "data": {
      "text/html": [
       "<div>\n",
       "<style scoped>\n",
       "    .dataframe tbody tr th:only-of-type {\n",
       "        vertical-align: middle;\n",
       "    }\n",
       "\n",
       "    .dataframe tbody tr th {\n",
       "        vertical-align: top;\n",
       "    }\n",
       "\n",
       "    .dataframe thead th {\n",
       "        text-align: right;\n",
       "    }\n",
       "</style>\n",
       "<table border=\"1\" class=\"dataframe\">\n",
       "  <thead>\n",
       "    <tr style=\"text-align: right;\">\n",
       "      <th></th>\n",
       "      <th>teamID</th>\n",
       "      <th>AB</th>\n",
       "      <th>H</th>\n",
       "      <th>HR</th>\n",
       "    </tr>\n",
       "  </thead>\n",
       "  <tbody>\n",
       "    <tr>\n",
       "      <th>0</th>\n",
       "      <td>CHN</td>\n",
       "      <td>3225</td>\n",
       "      <td>892</td>\n",
       "      <td>15</td>\n",
       "    </tr>\n",
       "    <tr>\n",
       "      <th>1</th>\n",
       "      <td>SL4</td>\n",
       "      <td>2865</td>\n",
       "      <td>663</td>\n",
       "      <td>11</td>\n",
       "    </tr>\n",
       "    <tr>\n",
       "      <th>2</th>\n",
       "      <td>CHN</td>\n",
       "      <td>3658</td>\n",
       "      <td>1000</td>\n",
       "      <td>13</td>\n",
       "    </tr>\n",
       "    <tr>\n",
       "      <th>3</th>\n",
       "      <td>SL4</td>\n",
       "      <td>3495</td>\n",
       "      <td>891</td>\n",
       "      <td>7</td>\n",
       "    </tr>\n",
       "    <tr>\n",
       "      <th>4</th>\n",
       "      <td>CHN</td>\n",
       "      <td>4182</td>\n",
       "      <td>1176</td>\n",
       "      <td>142</td>\n",
       "    </tr>\n",
       "  </tbody>\n",
       "</table>\n",
       "</div>"
      ],
      "text/plain": [
       "  teamID    AB     H   HR\n",
       "0    CHN  3225   892   15\n",
       "1    SL4  2865   663   11\n",
       "2    CHN  3658  1000   13\n",
       "3    SL4  3495   891    7\n",
       "4    CHN  4182  1176  142"
      ]
     },
     "execution_count": 158,
     "metadata": {},
     "output_type": "execute_result"
    }
   ],
   "source": [
    "hits_df = pd.read_sql_query(\"SELECT teamID, AB, H, HR FROM team_table WHERE yearID > 1881 AND (teamID = 'SLN' OR teamID = 'SL4' OR teamID = 'CHN') ORDER BY yearID\", con)\n",
    "hits_df.head()"
   ]
  },
  {
   "cell_type": "markdown",
   "metadata": {},
   "source": [
    "## Need to find a way to read columns 2B and 3B"
   ]
  },
  {
   "cell_type": "code",
   "execution_count": 159,
   "metadata": {},
   "outputs": [],
   "source": [
    "batting_df = pd.read_csv('../../../Desktop/Batting.csv', index_col=None, na_values=['NA'])\n",
    "batting_df.to_sql(\"Batting_table\", baseball, if_exists = \"replace\")"
   ]
  },
  {
   "cell_type": "code",
   "execution_count": 171,
   "metadata": {},
   "outputs": [
    {
     "data": {
      "text/html": [
       "<div>\n",
       "<style scoped>\n",
       "    .dataframe tbody tr th:only-of-type {\n",
       "        vertical-align: middle;\n",
       "    }\n",
       "\n",
       "    .dataframe tbody tr th {\n",
       "        vertical-align: top;\n",
       "    }\n",
       "\n",
       "    .dataframe thead th {\n",
       "        text-align: right;\n",
       "    }\n",
       "</style>\n",
       "<table border=\"1\" class=\"dataframe\">\n",
       "  <thead>\n",
       "    <tr style=\"text-align: right;\">\n",
       "      <th></th>\n",
       "      <th>teamID</th>\n",
       "      <th>HR</th>\n",
       "    </tr>\n",
       "  </thead>\n",
       "  <tbody>\n",
       "    <tr>\n",
       "      <th>0</th>\n",
       "      <td>SLN</td>\n",
       "      <td>70</td>\n",
       "    </tr>\n",
       "    <tr>\n",
       "      <th>1</th>\n",
       "      <td>CHN</td>\n",
       "      <td>66</td>\n",
       "    </tr>\n",
       "    <tr>\n",
       "      <th>2</th>\n",
       "      <td>SLN</td>\n",
       "      <td>65</td>\n",
       "    </tr>\n",
       "    <tr>\n",
       "      <th>3</th>\n",
       "      <td>CHN</td>\n",
       "      <td>64</td>\n",
       "    </tr>\n",
       "    <tr>\n",
       "      <th>4</th>\n",
       "      <td>CHN</td>\n",
       "      <td>63</td>\n",
       "    </tr>\n",
       "  </tbody>\n",
       "</table>\n",
       "</div>"
      ],
      "text/plain": [
       "  teamID  HR\n",
       "0    SLN  70\n",
       "1    CHN  66\n",
       "2    SLN  65\n",
       "3    CHN  64\n",
       "4    CHN  63"
      ]
     },
     "execution_count": 171,
     "metadata": {},
     "output_type": "execute_result"
    }
   ],
   "source": [
    "hr_batting_df = pd.read_sql_query(\"SELECT teamID, HR FROM batting_table WHERE yearID > 1882 AND (teamID = 'SLN' OR teamID = 'SL4' OR teamID = 'CHN') ORDER BY HR DESC\", con)\n",
    "hr_batting_df.head()"
   ]
  },
  {
   "cell_type": "code",
   "execution_count": 168,
   "metadata": {},
   "outputs": [
    {
     "data": {
      "text/html": [
       "<div>\n",
       "<style scoped>\n",
       "    .dataframe tbody tr th:only-of-type {\n",
       "        vertical-align: middle;\n",
       "    }\n",
       "\n",
       "    .dataframe tbody tr th {\n",
       "        vertical-align: top;\n",
       "    }\n",
       "\n",
       "    .dataframe thead th {\n",
       "        text-align: right;\n",
       "    }\n",
       "</style>\n",
       "<table border=\"1\" class=\"dataframe\">\n",
       "  <thead>\n",
       "    <tr style=\"text-align: right;\">\n",
       "      <th></th>\n",
       "      <th>teamID</th>\n",
       "      <th>HR</th>\n",
       "    </tr>\n",
       "  </thead>\n",
       "  <tbody>\n",
       "    <tr>\n",
       "      <th>0</th>\n",
       "      <td>SFN</td>\n",
       "      <td>73</td>\n",
       "    </tr>\n",
       "    <tr>\n",
       "      <th>1</th>\n",
       "      <td>SLN</td>\n",
       "      <td>70</td>\n",
       "    </tr>\n",
       "    <tr>\n",
       "      <th>2</th>\n",
       "      <td>CHN</td>\n",
       "      <td>66</td>\n",
       "    </tr>\n",
       "    <tr>\n",
       "      <th>3</th>\n",
       "      <td>SLN</td>\n",
       "      <td>65</td>\n",
       "    </tr>\n",
       "    <tr>\n",
       "      <th>4</th>\n",
       "      <td>CHN</td>\n",
       "      <td>64</td>\n",
       "    </tr>\n",
       "  </tbody>\n",
       "</table>\n",
       "</div>"
      ],
      "text/plain": [
       "  teamID  HR\n",
       "0    SFN  73\n",
       "1    SLN  70\n",
       "2    CHN  66\n",
       "3    SLN  65\n",
       "4    CHN  64"
      ]
     },
     "execution_count": 168,
     "metadata": {},
     "output_type": "execute_result"
    }
   ],
   "source": [
    "batting_df = pd.read_sql_query(\"SELECT teamID, HR FROM batting_table WHERE yearID > 1882 ORDER BY HR DESC\", con)\n",
    "batting_df.head()"
   ]
  },
  {
   "cell_type": "code",
   "execution_count": null,
   "metadata": {},
   "outputs": [],
   "source": []
  }
 ],
 "metadata": {
  "kernelspec": {
   "display_name": "Python 3",
   "language": "python",
   "name": "python3"
  },
  "language_info": {
   "codemirror_mode": {
    "name": "ipython",
    "version": 3
   },
   "file_extension": ".py",
   "mimetype": "text/x-python",
   "name": "python",
   "nbconvert_exporter": "python",
   "pygments_lexer": "ipython3",
   "version": "3.7.1"
  }
 },
 "nbformat": 4,
 "nbformat_minor": 2
}
